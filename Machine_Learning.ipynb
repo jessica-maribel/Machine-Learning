{
  "nbformat": 4,
  "nbformat_minor": 0,
  "metadata": {
    "colab": {
      "provenance": []
    },
    "kernelspec": {
      "name": "python3",
      "display_name": "Python 3"
    },
    "language_info": {
      "name": "python"
    }
  },
  "cells": [
    {
      "cell_type": "markdown",
      "source": [
        "## Machine Learning\n",
        "La *regresión lineal* es un técnica estadística que se usa para encontrar la relación entre las variables. En un entorno de AA contexto, la regresión lineal encuentra la relación entre funciones y una etiqueta.\n"
      ],
      "metadata": {
        "id": "zcouyzGTgDGk"
      }
    },
    {
      "cell_type": "code",
      "execution_count": null,
      "metadata": {
        "id": "iWKZVuvXfBTl"
      },
      "outputs": [],
      "source": []
    }
  ]
}